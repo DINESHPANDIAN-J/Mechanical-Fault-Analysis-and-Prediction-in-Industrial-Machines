{
 "cells": [
  {
   "cell_type": "markdown",
   "id": "09872ebb",
   "metadata": {},
   "source": [
    "**Select Features**\n",
    "- Based on your analysis:\n",
    "- Keep: Temperature_C, Vibration_mm_s, Oil_Quality_Index\n",
    "- Drop: RPM (not statistically significant)"
   ]
  },
  {
   "cell_type": "markdown",
   "id": "061c58a9",
   "metadata": {},
   "source": [
    "**Train-Test Split**"
   ]
  },
  {
   "cell_type": "code",
   "execution_count": null,
   "id": "6339fb33",
   "metadata": {},
   "outputs": [],
   "source": [
    "from sklearn.model_selection import train_test_split\n",
    "\n",
    "X = df[['Temperature_C', 'Vibration_mm_s', 'Oil_Quality_Index']]\n",
    "y = df['Fault']\n",
    "\n",
    "X_train, X_test, y_train, y_test = train_test_split(X, y, test_size=0.2, random_state=42)\n"
   ]
  }
 ],
 "metadata": {
  "language_info": {
   "name": "python"
  }
 },
 "nbformat": 4,
 "nbformat_minor": 5
}
